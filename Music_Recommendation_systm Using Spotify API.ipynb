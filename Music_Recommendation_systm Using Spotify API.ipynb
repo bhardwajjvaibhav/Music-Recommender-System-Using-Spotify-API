{
 "cells": [
  {
   "cell_type": "markdown",
   "metadata": {},
   "source": [
    "### <span style=\"color:red\"><b>Spotify Music Recommendation System---Using Spotify Api</b></span>"
   ]
  },
  {
   "cell_type": "code",
   "execution_count": 1,
   "metadata": {
    "id": "nlVF2xhdbVkv"
   },
   "outputs": [],
   "source": [
    "import requests\n",
    "import base64\n",
    "import pandas as pd\n",
    "import spotipy\n",
    "from spotipy.oauth2 import SpotifyOAuth\n",
    "from sklearn.model_selection import train_test_split\n",
    "from sklearn.preprocessing import MinMaxScaler\n",
    "from datetime import datetime\n",
    "from sklearn.metrics.pairwise import cosine_similarity"
   ]
  },
  {
   "cell_type": "markdown",
   "metadata": {},
   "source": [
    "#### <span style=\"color:green\"><i>Users Credentials Generated using Spotify Developer</i></span>"
   ]
  },
  {
   "cell_type": "code",
   "execution_count": 2,
   "metadata": {
    "id": "w91VTetXeeW5"
   },
   "outputs": [],
   "source": [
    "CLIENT_ID ='972aa9d5a7ac4100994898a47b683ee3'\n",
    "CLIENT_SECRET = '7152374d0eae4fbfb762e792781f72ea'"
   ]
  },
  {
   "cell_type": "code",
   "execution_count": 3,
   "metadata": {
    "id": "foNwQ9e-e04e"
   },
   "outputs": [],
   "source": [
    "CLIENT_CREDENTIALS =f\"{CLIENT_ID}:{CLIENT_SECRET}\"\n",
    "client_credentials_base64 = base64.b64encode(CLIENT_CREDENTIALS.encode())"
   ]
  },
  {
   "cell_type": "markdown",
   "metadata": {},
   "source": [
    "####  <span style=\"color:green\"><i>Accessing Token From Spotify API</i></span>"
   ]
  },
  {
   "cell_type": "code",
   "execution_count": 4,
   "metadata": {
    "id": "kjZDSkFEfOXp"
   },
   "outputs": [],
   "source": [
    "token_url = 'https://accounts.spotify.com/api/token'\n",
    "headers={\n",
    "    'Authorization':f'Basic {client_credentials_base64.decode()}'\n",
    "}\n",
    "data = {\n",
    "    'grant_type':'client_credentials'\n",
    "\n",
    "}\n",
    "response = requests.post(token_url,headers=headers,data=data)\n",
    "if response.status_code == 200:\n",
    "    access_token = response.json()['access_token']\n",
    "    m=access_token\n",
    "else:\n",
    "    print('Error:', response.status_code, response.text)"
   ]
  },
  {
   "cell_type": "markdown",
   "metadata": {},
   "source": [
    "####  <span style=\"color:green\"><i>Retrieving Playlist Information</i></span>"
   ]
  },
  {
   "cell_type": "code",
   "execution_count": 5,
   "metadata": {
    "id": "-AApSod2gs82"
   },
   "outputs": [],
   "source": [
    "def get_trending_playlist_data(playlist_id, access_token):\n",
    "    sp = spotipy.Spotify(auth=access_token)\n",
    "    playlist_tracks = sp.playlist_tracks(playlist_id, fields='items(track(id, name, artists, album(id, name)))')\n",
    "    music_data = []\n",
    "\n",
    "    for track_info in playlist_tracks['items']:\n",
    "        track = track_info['track']\n",
    "        track_name = track['name']\n",
    "        artist_names = [artist['name'] for artist in track['artists']]\n",
    "        album_name = track['album']['name']\n",
    "        album_id = track['album']['id']\n",
    "        track_id = track['id']\n",
    "        audio_features = sp.audio_features(track_id)[0] if track_id != 'Not available' else None\n",
    "\n",
    "        try:\n",
    "            album_info = sp.album(album_id) if album_id != 'Not available' else None\n",
    "            release_date = album_info['release_date'] if album_info else None\n",
    "        except:\n",
    "            release_date = None\n",
    "\n",
    "        try:\n",
    "            track_info = sp.track(track_id) if track_id != 'Not available' else None\n",
    "            popularity = track_info['popularity'] if track_info else None\n",
    "        except:\n",
    "            popularity = None\n",
    "\n",
    "        track_data = {\n",
    "            'Track Name': track_name,\n",
    "            'Artist': ', '.join(artist_names),\n",
    "            'Album Name': album_name,\n",
    "            'Album ID': album_id,\n",
    "            'Track ID': track_id,\n",
    "            'Release Date': release_date,\n",
    "            'Popularity': popularity,\n",
    "            'Duration(ms)': audio_features['duration_ms'] if audio_features else None,\n",
    "            'Explicit': track_info.get('explicit', None) if track_info else None,\n",
    "            'External URLs': track_info.get('external_urls', {}).get('spotify', None) if track_info else None,\n",
    "            'Danceability': audio_features['danceability'] if audio_features else None,\n",
    "            'Energy': audio_features['energy'] if audio_features else None,\n",
    "            'Key': audio_features['key'] if audio_features else None,\n",
    "            'Loudness': audio_features['loudness'] if audio_features else None,\n",
    "            'Mode': audio_features['mode'] if audio_features else None,\n",
    "            'Speechiness': audio_features['speechiness'] if audio_features else None,\n",
    "            'Acousticness': audio_features['acousticness'] if audio_features else None,\n",
    "            'Instrumentalness': audio_features['instrumentalness'] if audio_features else None,\n",
    "            'Liveness': audio_features['liveness'] if audio_features else None,\n",
    "            'Valence': audio_features['valence'] if audio_features else None,\n",
    "            'Tempo': audio_features['tempo'] if audio_features else None,\n",
    "        }\n",
    "\n",
    "        music_data.append(track_data)\n",
    "\n",
    "    df = pd.DataFrame(music_data)\n",
    "    return df\n"
   ]
  },
  {
   "cell_type": "markdown",
   "metadata": {},
   "source": [
    "####  <span style=\"color:green\"><i>Intialising Playlist_id and Generating Tracks Info</i></span>"
   ]
  },
  {
   "cell_type": "code",
   "execution_count": 7,
   "metadata": {
    "colab": {
     "base_uri": "https://localhost:8080/"
    },
    "id": "G6WjRv9Tk2Tn",
    "outputId": "2b971c01-dae6-4b2e-9acf-43e63cf37476"
   },
   "outputs": [
    {
     "data": {
      "text/html": [
       "<div>\n",
       "<style scoped>\n",
       "    .dataframe tbody tr th:only-of-type {\n",
       "        vertical-align: middle;\n",
       "    }\n",
       "\n",
       "    .dataframe tbody tr th {\n",
       "        vertical-align: top;\n",
       "    }\n",
       "\n",
       "    .dataframe thead th {\n",
       "        text-align: right;\n",
       "    }\n",
       "</style>\n",
       "<table border=\"1\" class=\"dataframe\">\n",
       "  <thead>\n",
       "    <tr style=\"text-align: right;\">\n",
       "      <th></th>\n",
       "      <th>Track Name</th>\n",
       "      <th>Artist</th>\n",
       "      <th>Album Name</th>\n",
       "      <th>Album ID</th>\n",
       "      <th>Track ID</th>\n",
       "      <th>Release Date</th>\n",
       "      <th>Popularity</th>\n",
       "      <th>Duration(ms)</th>\n",
       "      <th>Explicit</th>\n",
       "      <th>External URLs</th>\n",
       "      <th>...</th>\n",
       "      <th>Energy</th>\n",
       "      <th>Key</th>\n",
       "      <th>Loudness</th>\n",
       "      <th>Mode</th>\n",
       "      <th>Speechiness</th>\n",
       "      <th>Acousticness</th>\n",
       "      <th>Instrumentalness</th>\n",
       "      <th>Liveness</th>\n",
       "      <th>Valence</th>\n",
       "      <th>Tempo</th>\n",
       "    </tr>\n",
       "  </thead>\n",
       "  <tbody>\n",
       "    <tr>\n",
       "      <th>0</th>\n",
       "      <td>Summer of Love (Shawn Mendes &amp; Tainy)</td>\n",
       "      <td>Shawn Mendes, Tainy</td>\n",
       "      <td>Summer Of Love</td>\n",
       "      <td>4nProAxFavzKkbaRQ2Otyk</td>\n",
       "      <td>0z8hI3OPS8ADPWtoCjjLl6</td>\n",
       "      <td>2021-08-20</td>\n",
       "      <td>65</td>\n",
       "      <td>184104</td>\n",
       "      <td>False</td>\n",
       "      <td>https://open.spotify.com/track/0z8hI3OPS8ADPWt...</td>\n",
       "      <td>...</td>\n",
       "      <td>0.808</td>\n",
       "      <td>11</td>\n",
       "      <td>-4.501</td>\n",
       "      <td>1</td>\n",
       "      <td>0.1170</td>\n",
       "      <td>0.0297</td>\n",
       "      <td>0.000127</td>\n",
       "      <td>0.1030</td>\n",
       "      <td>0.494</td>\n",
       "      <td>123.988</td>\n",
       "    </tr>\n",
       "    <tr>\n",
       "      <th>1</th>\n",
       "      <td>STAY (with Justin Bieber)</td>\n",
       "      <td>The Kid LAROI, Justin Bieber</td>\n",
       "      <td>STAY (with Justin Bieber)</td>\n",
       "      <td>4QLAtpLNUsHEYrcHXmMIZZ</td>\n",
       "      <td>5HCyWlXZPP0y6Gqq8TgA20</td>\n",
       "      <td>2021-07-09</td>\n",
       "      <td>76</td>\n",
       "      <td>141806</td>\n",
       "      <td>True</td>\n",
       "      <td>https://open.spotify.com/track/5HCyWlXZPP0y6Gq...</td>\n",
       "      <td>...</td>\n",
       "      <td>0.764</td>\n",
       "      <td>1</td>\n",
       "      <td>-5.484</td>\n",
       "      <td>1</td>\n",
       "      <td>0.0483</td>\n",
       "      <td>0.0383</td>\n",
       "      <td>0.000000</td>\n",
       "      <td>0.1030</td>\n",
       "      <td>0.478</td>\n",
       "      <td>169.928</td>\n",
       "    </tr>\n",
       "    <tr>\n",
       "      <th>2</th>\n",
       "      <td>Shape of You</td>\n",
       "      <td>Ed Sheeran</td>\n",
       "      <td>÷ (Deluxe)</td>\n",
       "      <td>3T4tUhGYeRNVUGevb0wThu</td>\n",
       "      <td>7qiZfU4dY1lWllzX7mPBI3</td>\n",
       "      <td>2017-03-03</td>\n",
       "      <td>81</td>\n",
       "      <td>233713</td>\n",
       "      <td>False</td>\n",
       "      <td>https://open.spotify.com/track/7qiZfU4dY1lWllz...</td>\n",
       "      <td>...</td>\n",
       "      <td>0.652</td>\n",
       "      <td>1</td>\n",
       "      <td>-3.183</td>\n",
       "      <td>0</td>\n",
       "      <td>0.0802</td>\n",
       "      <td>0.5810</td>\n",
       "      <td>0.000000</td>\n",
       "      <td>0.0931</td>\n",
       "      <td>0.931</td>\n",
       "      <td>95.977</td>\n",
       "    </tr>\n",
       "    <tr>\n",
       "      <th>3</th>\n",
       "      <td>Peaches (feat. Daniel Caesar &amp; Giveon)</td>\n",
       "      <td>Justin Bieber, Daniel Caesar, Giveon</td>\n",
       "      <td>Justice</td>\n",
       "      <td>5dGWwsZ9iB2Xc3UKR0gif2</td>\n",
       "      <td>4iJyoBOLtHqaGxP12qzhQI</td>\n",
       "      <td>2021-03-19</td>\n",
       "      <td>75</td>\n",
       "      <td>198082</td>\n",
       "      <td>True</td>\n",
       "      <td>https://open.spotify.com/track/4iJyoBOLtHqaGxP...</td>\n",
       "      <td>...</td>\n",
       "      <td>0.696</td>\n",
       "      <td>0</td>\n",
       "      <td>-6.181</td>\n",
       "      <td>1</td>\n",
       "      <td>0.1190</td>\n",
       "      <td>0.3210</td>\n",
       "      <td>0.000000</td>\n",
       "      <td>0.4200</td>\n",
       "      <td>0.464</td>\n",
       "      <td>90.030</td>\n",
       "    </tr>\n",
       "    <tr>\n",
       "      <th>4</th>\n",
       "      <td>Bad Habits</td>\n",
       "      <td>Ed Sheeran</td>\n",
       "      <td>=</td>\n",
       "      <td>32iAEBstCjauDhyKpGjTuq</td>\n",
       "      <td>3rmo8F54jFF8OgYsqTxm5d</td>\n",
       "      <td>2021-10-25</td>\n",
       "      <td>76</td>\n",
       "      <td>230747</td>\n",
       "      <td>False</td>\n",
       "      <td>https://open.spotify.com/track/3rmo8F54jFF8OgY...</td>\n",
       "      <td>...</td>\n",
       "      <td>0.893</td>\n",
       "      <td>11</td>\n",
       "      <td>-3.745</td>\n",
       "      <td>0</td>\n",
       "      <td>0.0347</td>\n",
       "      <td>0.0451</td>\n",
       "      <td>0.000028</td>\n",
       "      <td>0.3660</td>\n",
       "      <td>0.537</td>\n",
       "      <td>126.011</td>\n",
       "    </tr>\n",
       "  </tbody>\n",
       "</table>\n",
       "<p>5 rows × 21 columns</p>\n",
       "</div>"
      ],
      "text/plain": [
       "                               Track Name  \\\n",
       "0   Summer of Love (Shawn Mendes & Tainy)   \n",
       "1               STAY (with Justin Bieber)   \n",
       "2                            Shape of You   \n",
       "3  Peaches (feat. Daniel Caesar & Giveon)   \n",
       "4                              Bad Habits   \n",
       "\n",
       "                                 Artist                 Album Name  \\\n",
       "0                   Shawn Mendes, Tainy             Summer Of Love   \n",
       "1          The Kid LAROI, Justin Bieber  STAY (with Justin Bieber)   \n",
       "2                            Ed Sheeran                 ÷ (Deluxe)   \n",
       "3  Justin Bieber, Daniel Caesar, Giveon                    Justice   \n",
       "4                            Ed Sheeran                          =   \n",
       "\n",
       "                 Album ID                Track ID Release Date  Popularity  \\\n",
       "0  4nProAxFavzKkbaRQ2Otyk  0z8hI3OPS8ADPWtoCjjLl6   2021-08-20          65   \n",
       "1  4QLAtpLNUsHEYrcHXmMIZZ  5HCyWlXZPP0y6Gqq8TgA20   2021-07-09          76   \n",
       "2  3T4tUhGYeRNVUGevb0wThu  7qiZfU4dY1lWllzX7mPBI3   2017-03-03          81   \n",
       "3  5dGWwsZ9iB2Xc3UKR0gif2  4iJyoBOLtHqaGxP12qzhQI   2021-03-19          75   \n",
       "4  32iAEBstCjauDhyKpGjTuq  3rmo8F54jFF8OgYsqTxm5d   2021-10-25          76   \n",
       "\n",
       "   Duration(ms)  Explicit                                      External URLs  \\\n",
       "0        184104     False  https://open.spotify.com/track/0z8hI3OPS8ADPWt...   \n",
       "1        141806      True  https://open.spotify.com/track/5HCyWlXZPP0y6Gq...   \n",
       "2        233713     False  https://open.spotify.com/track/7qiZfU4dY1lWllz...   \n",
       "3        198082      True  https://open.spotify.com/track/4iJyoBOLtHqaGxP...   \n",
       "4        230747     False  https://open.spotify.com/track/3rmo8F54jFF8OgY...   \n",
       "\n",
       "   ...  Energy  Key  Loudness  Mode  Speechiness  Acousticness  \\\n",
       "0  ...   0.808   11    -4.501     1       0.1170        0.0297   \n",
       "1  ...   0.764    1    -5.484     1       0.0483        0.0383   \n",
       "2  ...   0.652    1    -3.183     0       0.0802        0.5810   \n",
       "3  ...   0.696    0    -6.181     1       0.1190        0.3210   \n",
       "4  ...   0.893   11    -3.745     0       0.0347        0.0451   \n",
       "\n",
       "   Instrumentalness  Liveness  Valence    Tempo  \n",
       "0          0.000127    0.1030    0.494  123.988  \n",
       "1          0.000000    0.1030    0.478  169.928  \n",
       "2          0.000000    0.0931    0.931   95.977  \n",
       "3          0.000000    0.4200    0.464   90.030  \n",
       "4          0.000028    0.3660    0.537  126.011  \n",
       "\n",
       "[5 rows x 21 columns]"
      ]
     },
     "execution_count": 7,
     "metadata": {},
     "output_type": "execute_result"
    }
   ],
   "source": [
    "playlist_id = '44j7hYaG0v6DEh9egqVWzw'\n",
    "access_token=m\n",
    "\n",
    "\n",
    "# Call the function to get the music data from the playlist and store it in a DataFrame\n",
    "music_df = get_trending_playlist_data(playlist_id, access_token)\n",
    "\n",
    "# Display the DataFrame\n",
    "music_df.head(5)"
   ]
  },
  {
   "cell_type": "markdown",
   "metadata": {},
   "source": [
    "#### <span style=\"color:green\"><i>Checking for Nulll Values</i></span>"
   ]
  },
  {
   "cell_type": "code",
   "execution_count": 8,
   "metadata": {
    "colab": {
     "base_uri": "https://localhost:8080/"
    },
    "id": "huibj7QbnDnU",
    "outputId": "1ce1bf4f-4097-4266-b967-e63c8646a8ea"
   },
   "outputs": [
    {
     "data": {
      "text/plain": [
       "Track Name          0\n",
       "Artist              0\n",
       "Album Name          0\n",
       "Album ID            0\n",
       "Track ID            0\n",
       "Release Date        0\n",
       "Popularity          0\n",
       "Duration(ms)        0\n",
       "Explicit            0\n",
       "External URLs       0\n",
       "Danceability        0\n",
       "Energy              0\n",
       "Key                 0\n",
       "Loudness            0\n",
       "Mode                0\n",
       "Speechiness         0\n",
       "Acousticness        0\n",
       "Instrumentalness    0\n",
       "Liveness            0\n",
       "Valence             0\n",
       "Tempo               0\n",
       "dtype: int64"
      ]
     },
     "execution_count": 8,
     "metadata": {},
     "output_type": "execute_result"
    }
   ],
   "source": [
    "music_df.isnull().sum()"
   ]
  },
  {
   "cell_type": "code",
   "execution_count": 9,
   "metadata": {
    "id": "UCoT00zc67jP"
   },
   "outputs": [],
   "source": [
    "data=music_df"
   ]
  },
  {
   "cell_type": "markdown",
   "metadata": {},
   "source": [
    "### <span><b> Building Hybrid Recommendation System</b></span>"
   ]
  },
  {
   "cell_type": "markdown",
   "metadata": {},
   "source": [
    "#### <span style=\"color:green\"><i>Giving Weights To The Latest Releases</i></span>"
   ]
  },
  {
   "cell_type": "code",
   "execution_count": 10,
   "metadata": {
    "id": "_4xKMZWs69io"
   },
   "outputs": [],
   "source": [
    "def calculate_weighted_popularity(release_date):\n",
    "  release_date=datetime.strptime(release_date,'%Y-%m-%d')\n",
    "  time_span=datetime.now()-release_date\n",
    "  days=time_span.days\n",
    "  weight=1/(time_span.days+1)\n",
    "  return weight"
   ]
  },
  {
   "cell_type": "markdown",
   "metadata": {},
   "source": [
    " #### <span style=\"color:green\"><i>Normalizing Music Features</i></span>"
   ]
  },
  {
   "cell_type": "code",
   "execution_count": 11,
   "metadata": {
    "id": "1-oPcltN77rU"
   },
   "outputs": [],
   "source": [
    "scaler = MinMaxScaler()\n",
    "music_features = music_df[['Danceability', 'Energy', 'Key',\n",
    "                           'Loudness', 'Mode', 'Speechiness', 'Acousticness',\n",
    "                           'Instrumentalness', 'Liveness', 'Valence', 'Tempo']].values\n",
    "music_features_scaled = scaler.fit_transform(music_features)"
   ]
  },
  {
   "cell_type": "markdown",
   "metadata": {},
   "source": [
    "#### <span style=\"color:Green\"><i>Recommending Music -- Based On Music Audio Feature</i></span> "
   ]
  },
  {
   "cell_type": "code",
   "execution_count": 12,
   "metadata": {
    "id": "V-dm58eDBfUW"
   },
   "outputs": [],
   "source": [
    "def content_based_recommendations(input_song_name, num_recommendations=5):\n",
    "    if input_song_name not in music_df['Track Name'].values:\n",
    "        print(f\"'{input_song_name}' not found in the dataset. Please enter a valid song name.\")\n",
    "        return None\n",
    "\n",
    "    input_song_index = music_df[music_df['Track Name'] == input_song_name].index[0]\n",
    "    similarity_scores = cosine_similarity([music_features_scaled[input_song_index]], music_features_scaled)\n",
    "    similar_song_indices = similarity_scores.argsort()[0][::-1][1:num_recommendations+1]\n",
    "\n",
    "    content_based_recommendation = music_df.iloc[similar_song_indices][['Track Name', 'Artist', 'Album Name', 'Release Date', 'Popularity']]\n",
    "    return content_based_recommendation"
   ]
  },
  {
   "cell_type": "markdown",
   "metadata": {},
   "source": [
    "#### <span style=\"color:green\"><i>Recommending Music -- Based On Weighted Popularity</i></span>"
   ]
  },
  {
   "cell_type": "code",
   "execution_count": 13,
   "metadata": {
    "id": "2bjzOk_TDKoK"
   },
   "outputs": [],
   "source": [
    "def hybrid_recommendations(input_song_name, num_recommendations=5, alpha=0.5):\n",
    "    if input_song_name not in music_df['Track Name'].values:\n",
    "        print(f\"'{input_song_name}' not found in the dataset. Please enter a valid song name.\")\n",
    "        return None\n",
    "\n",
    "    \n",
    "    content_based_rec = content_based_recommendations(input_song_name, num_recommendations)\n",
    "    if content_based_rec is None:\n",
    "        return None\n",
    "\n",
    "    \n",
    "    popularity_score = music_df.loc[music_df['Track Name'] == input_song_name, 'Popularity'].values[0]\n",
    "\n",
    "\n",
    "    weighted_popularity_score = popularity_score * calculate_weighted_popularity(music_df.loc[music_df['Track Name'] == input_song_name, 'Release Date'].values[0])\n",
    "\n",
    " \n",
    "    input_song_data = pd.DataFrame([{\n",
    "        'Track Name': input_song_name,\n",
    "        'Artist': music_df.loc[music_df['Track Name'] == input_song_name, 'Artist'].values[0],\n",
    "        'Album Name': music_df.loc[music_df['Track Name'] == input_song_name, 'Album Name'].values[0],\n",
    "        'Release Date': music_df.loc[music_df['Track Name'] == input_song_name, 'Release Date'].values[0],\n",
    "        'Popularity': weighted_popularity_score\n",
    "    }])\n",
    "\n",
    "    hybrid_recommendations = pd.concat([content_based_rec, input_song_data], ignore_index=True)\n",
    "\n",
    "\n",
    "    hybrid_recommendations = hybrid_recommendations.sort_values(by='Popularity', ascending=False)\n",
    "\n",
    "\n",
    "    hybrid_recommendations[hybrid_recommendations['Track Name'] != input_song_name]\n",
    "    \n",
    "    return hybrid_recommendations"
   ]
  },
  {
   "cell_type": "markdown",
   "metadata": {},
   "source": [
    "#### <span style=\"color:green\"><b><i>Generating Music recommendations</i></b></span>"
   ]
  },
  {
   "cell_type": "code",
   "execution_count": 14,
   "metadata": {
    "colab": {
     "base_uri": "https://localhost:8080/"
    },
    "id": "of-J25QzKyGc",
    "outputId": "e4e73a30-0939-4f6b-b09b-58d06d0d08b6"
   },
   "outputs": [
    {
     "name": "stdout",
     "output_type": "stream",
     "text": [
      "Search Your Tunes\n"
     ]
    },
    {
     "name": "stdin",
     "output_type": "stream",
     "text": [
      " Peaches (feat. Daniel Caesar & Giveon)\n"
     ]
    },
    {
     "data": {
      "text/html": [
       "<div>\n",
       "<style scoped>\n",
       "    .dataframe tbody tr th:only-of-type {\n",
       "        vertical-align: middle;\n",
       "    }\n",
       "\n",
       "    .dataframe tbody tr th {\n",
       "        vertical-align: top;\n",
       "    }\n",
       "\n",
       "    .dataframe thead th {\n",
       "        text-align: right;\n",
       "    }\n",
       "</style>\n",
       "<table border=\"1\" class=\"dataframe\">\n",
       "  <thead>\n",
       "    <tr style=\"text-align: right;\">\n",
       "      <th></th>\n",
       "      <th>Track Name</th>\n",
       "      <th>Artist</th>\n",
       "      <th>Album Name</th>\n",
       "      <th>Release Date</th>\n",
       "      <th>Popularity</th>\n",
       "    </tr>\n",
       "  </thead>\n",
       "  <tbody>\n",
       "    <tr>\n",
       "      <th>2</th>\n",
       "      <td>Save Your Tears</td>\n",
       "      <td>The Weeknd</td>\n",
       "      <td>After Hours</td>\n",
       "      <td>2020-03-20</td>\n",
       "      <td>80.0</td>\n",
       "    </tr>\n",
       "    <tr>\n",
       "      <th>0</th>\n",
       "      <td>Dura</td>\n",
       "      <td>Daddy Yankee</td>\n",
       "      <td>Dura</td>\n",
       "      <td>2018-01-18</td>\n",
       "      <td>65.0</td>\n",
       "    </tr>\n",
       "    <tr>\n",
       "      <th>4</th>\n",
       "      <td>SugarCrash!</td>\n",
       "      <td>ElyOtto</td>\n",
       "      <td>SugarCrash!</td>\n",
       "      <td>2020-08-25</td>\n",
       "      <td>64.0</td>\n",
       "    </tr>\n",
       "    <tr>\n",
       "      <th>1</th>\n",
       "      <td>What If (I Told You I Like You)</td>\n",
       "      <td>Johnny Orlando, kenzie</td>\n",
       "      <td>What If (I Told You I Like You)</td>\n",
       "      <td>2018-05-18</td>\n",
       "      <td>58.0</td>\n",
       "    </tr>\n",
       "    <tr>\n",
       "      <th>3</th>\n",
       "      <td>Jesus in LA</td>\n",
       "      <td>Alec Benjamin</td>\n",
       "      <td>These Two Windows</td>\n",
       "      <td>2020-05-29</td>\n",
       "      <td>56.0</td>\n",
       "    </tr>\n",
       "  </tbody>\n",
       "</table>\n",
       "</div>"
      ],
      "text/plain": [
       "                        Track Name                  Artist  \\\n",
       "2                  Save Your Tears              The Weeknd   \n",
       "0                             Dura            Daddy Yankee   \n",
       "4                      SugarCrash!                 ElyOtto   \n",
       "1  What If (I Told You I Like You)  Johnny Orlando, kenzie   \n",
       "3                      Jesus in LA           Alec Benjamin   \n",
       "\n",
       "                        Album Name Release Date  Popularity  \n",
       "2                      After Hours   2020-03-20        80.0  \n",
       "0                             Dura   2018-01-18        65.0  \n",
       "4                      SugarCrash!   2020-08-25        64.0  \n",
       "1  What If (I Told You I Like You)   2018-05-18        58.0  \n",
       "3                These Two Windows   2020-05-29        56.0  "
      ]
     },
     "execution_count": 14,
     "metadata": {},
     "output_type": "execute_result"
    }
   ],
   "source": [
    "print(\"Search Your Tunes\")\n",
    "input_song_name = input()\n",
    "recommendations =hybrid_recommendations(input_song_name, num_recommendations=5)\n",
    "recommendations.head()"
   ]
  }
 ],
 "metadata": {
  "colab": {
   "provenance": []
  },
  "kernelspec": {
   "display_name": "Python 3 (ipykernel)",
   "language": "python",
   "name": "python3"
  },
  "language_info": {
   "codemirror_mode": {
    "name": "ipython",
    "version": 3
   },
   "file_extension": ".py",
   "mimetype": "text/x-python",
   "name": "python",
   "nbconvert_exporter": "python",
   "pygments_lexer": "ipython3",
   "version": "3.11.8"
  }
 },
 "nbformat": 4,
 "nbformat_minor": 4
}
